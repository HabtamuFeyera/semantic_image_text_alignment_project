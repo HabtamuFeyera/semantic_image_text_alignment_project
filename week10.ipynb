{
 "cells": [
  {
   "cell_type": "code",
   "execution_count": null,
   "metadata": {},
   "outputs": [],
   "source": [
    "import os\n",
    "\n",
    "assets_folder = 'Assets'\n",
    "\n",
    "# Iterate through subfolders\n",
    "for project_folder in os.listdir(assets_folder):\n",
    "    project_path = os.path.join(assets_folder, project_folder)\n",
    "    \n",
    "    # Check if the path is a directory\n",
    "    if os.path.isdir(project_path):\n",
    "        print(\"Project:\", project_folder)\n",
    "        \n",
    "        # Access assets within the project folder\n",
    "        for asset_file in os.listdir(project_path):\n",
    "            asset_path = os.path.join(project_path, asset_file)\n",
    "            \n",
    "            # Check if the asset is a file (not a subfolder)\n",
    "            if os.path.isfile(asset_path):\n",
    "                print(\"Asset:\", asset_file)\n",
    "                \n",
    "        print(\"\\n\")\n"
   ]
  }
 ],
 "metadata": {
  "language_info": {
   "name": "python"
  }
 },
 "nbformat": 4,
 "nbformat_minor": 2
}
